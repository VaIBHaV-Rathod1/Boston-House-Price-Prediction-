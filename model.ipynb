{
 "cells": [
  {
   "cell_type": "code",
   "execution_count": null,
   "id": "1aff8357",
   "metadata": {},
   "outputs": [],
   "source": [
    "import numpy as np \n",
    "import pandas as pd\n",
    "\n",
    "import plotly.express as px \n",
    "import plotly.graph_objects as go\n",
    "import plotly.io as pio\n",
    "pio.templates\n",
    "\n",
    "import seaborn as sns \n",
    "import matplotlib.pyplot as plt \n",
    "%matplotlib inline "
   ]
  },
  {
   "cell_type": "code",
   "execution_count": null,
   "id": "a711df36",
   "metadata": {},
   "outputs": [],
   "source": [
    "from sklearn.datasets import load_boston \n",
    "load_boston = load_boston() \n",
    "X = load_boston.data \n",
    "y = load_boston.target \n",
    "\n",
    "data = pd.DataFrame(X, columns=load_boston.feature_names) \n",
    "data[\"SalePrice\"] = y # saleprice \n",
    "data.head()"
   ]
  },
  {
   "cell_type": "code",
   "execution_count": null,
   "id": "fa32e760",
   "metadata": {},
   "outputs": [],
   "source": [
    "compression_opts = dict(method='zip',\n",
    "                        archive_name='Prices.csv')  \n",
    "data.to_csv('out.zip', index=False,\n",
    "          compression=compression_opts) "
   ]
  },
  {
   "cell_type": "code",
   "execution_count": null,
   "id": "a7390878",
   "metadata": {},
   "outputs": [],
   "source": [
    "print(load_boston.DESCR)\n"
   ]
  },
  {
   "cell_type": "code",
   "execution_count": null,
   "id": "a9a79256",
   "metadata": {},
   "outputs": [],
   "source": [
    "print(data.shape) \n"
   ]
  },
  {
   "cell_type": "code",
   "execution_count": null,
   "id": "3bad5421",
   "metadata": {},
   "outputs": [],
   "source": [
    "data.info() \n"
   ]
  },
  {
   "cell_type": "code",
   "execution_count": null,
   "id": "d9bc6209",
   "metadata": {},
   "outputs": [],
   "source": [
    "data.describe()\n"
   ]
  },
  {
   "cell_type": "code",
   "execution_count": null,
   "id": "faac9d97",
   "metadata": {},
   "outputs": [],
   "source": [
    "data.isnull().sum()\n"
   ]
  },
  {
   "cell_type": "code",
   "execution_count": null,
   "id": "d7f410c5",
   "metadata": {},
   "outputs": [],
   "source": [
    "sns.pairplot(data, height=2.5)\n",
    "plt.tight_layout()"
   ]
  },
  {
   "cell_type": "code",
   "execution_count": null,
   "id": "033538eb",
   "metadata": {},
   "outputs": [],
   "source": [
    "sns.distplot(data['SalePrice']);\n"
   ]
  },
  {
   "cell_type": "code",
   "execution_count": null,
   "id": "4d536a1f",
   "metadata": {},
   "outputs": [],
   "source": [
    "print(\"Skewness: %f\" % data['SalePrice'].skew())\n",
    "print(\"Kurtosis: %f\" % data['SalePrice'].kurt())"
   ]
  },
  {
   "cell_type": "code",
   "execution_count": null,
   "id": "ca66a6cc",
   "metadata": {},
   "outputs": [],
   "source": [
    "fig, ax = plt.subplots()\n",
    "ax.scatter(x = data['CRIM'], y = data['SalePrice'])\n",
    "plt.ylabel('SalePrice', fontsize=13)\n",
    "plt.xlabel('CRIM', fontsize=13)\n",
    "plt.show()"
   ]
  },
  {
   "cell_type": "code",
   "execution_count": null,
   "id": "2fc7a175",
   "metadata": {},
   "outputs": [],
   "source": [
    "fig, ax = plt.subplots()\n",
    "ax.scatter(x = data['AGE'], y = data['SalePrice'])\n",
    "plt.ylabel('SalePrice', fontsize=13)\n",
    "plt.xlabel('CRIM', fontsize=13)\n",
    "plt.show()"
   ]
  },
  {
   "cell_type": "code",
   "execution_count": null,
   "id": "64834059",
   "metadata": {},
   "outputs": [],
   "source": [
    "from scipy import stats\n",
    "from scipy.stats import norm, skew #for some statistics\n",
    "\n",
    "sns.distplot(data['SalePrice'] , fit=norm);\n",
    "\n",
    "(mu, sigma) = norm.fit(data['SalePrice'])\n",
    "print( '\\n mu = {:.2f} and sigma = {:.2f}\\n'.format(mu, sigma))\n",
    "\n",
    "plt.legend(['Normal dist. ($\\mu=$ {:.2f} and $\\sigma=$ {:.2f} )'.format(mu, sigma)],\n",
    "            loc='best')\n",
    "plt.ylabel('Frequency')\n",
    "plt.title('SalePrice distribution')\n",
    "\n",
    "#Get also the QQ-plot\n",
    "fig = plt.figure()\n",
    "res = stats.probplot(data['SalePrice'], plot=plt)\n",
    "plt.show()"
   ]
  },
  {
   "cell_type": "code",
   "execution_count": null,
   "id": "7d4f32a3",
   "metadata": {},
   "outputs": [],
   "source": [
    "data[\"SalePrice\"] = np.log1p(data[\"SalePrice\"])\n",
    "\n",
    "sns.distplot(data['SalePrice'] , fit=norm);\n",
    "\n",
    "(mu, sigma) = norm.fit(data['SalePrice'])\n",
    "print( '\\n mu = {:.2f} and sigma = {:.2f}\\n'.format(mu, sigma))\n",
    "\n",
    "plt.legend(['Normal dist. ($\\mu=$ {:.2f} and $\\sigma=$ {:.2f} )'.format(mu, sigma)],\n",
    "            loc='best')\n",
    "plt.ylabel('Frequency')\n",
    "plt.title('SalePrice distribution')\n",
    "\n",
    "fig = plt.figure()\n",
    "res = stats.probplot(data['SalePrice'], plot=plt)\n",
    "plt.show()"
   ]
  },
  {
   "cell_type": "code",
   "execution_count": null,
   "id": "5113ee4c",
   "metadata": {},
   "outputs": [],
   "source": [
    "plt.figure(figsize=(10,10))\n",
    "cor = data.corr()\n",
    "sns.heatmap(cor, annot=True, cmap=plt.cm.PuBu)\n",
    "plt.show()"
   ]
  },
  {
   "cell_type": "code",
   "execution_count": null,
   "id": "f1d0c05a",
   "metadata": {},
   "outputs": [],
   "source": [
    "cor_target = abs(cor[\"SalePrice\"]) # absolute value of the correlation \n",
    "\n",
    "relevant_features = cor_target[cor_target>0.2] # highly correlated features \n",
    "\n",
    "names = [index for index, value in relevant_features.iteritems()] # getting the names of the features \n",
    "\n",
    "names.remove('SalePrice') # removing target feature \n",
    "\n",
    "print(names) # printing the features \n",
    "print(len(names))"
   ]
  },
  {
   "cell_type": "code",
   "execution_count": null,
   "id": "6f262bad",
   "metadata": {},
   "outputs": [],
   "source": [
    "\n",
    "from sklearn.model_selection import train_test_split \n",
    "\n",
    "X = data.drop(\"SalePrice\", axis=1) \n",
    "y = data[\"SalePrice\"]\n",
    "X_train, X_test, y_train, y_test = train_test_split(X,y,test_size=0.2,random_state=42)"
   ]
  },
  {
   "cell_type": "code",
   "execution_count": null,
   "id": "5ae95afd",
   "metadata": {},
   "outputs": [],
   "source": [
    "\n",
    "print(X_train.shape)\n",
    "print(X_test.shape)\n",
    "print(y_train.shape)\n",
    "print(y_test.shape)"
   ]
  },
  {
   "cell_type": "code",
   "execution_count": null,
   "id": "3d6d3fa0",
   "metadata": {},
   "outputs": [],
   "source": [
    "from sklearn.linear_model import LinearRegression \n",
    "\n",
    "lr = LinearRegression() \n",
    "lr.fit(X_train, y_train)"
   ]
  },
  {
   "cell_type": "code",
   "execution_count": null,
   "id": "721c8a59",
   "metadata": {},
   "outputs": [],
   "source": [
    "predictions = lr.predict(X_test)  \n",
    "\n",
    "print(\"Actual value of the house:- \", y_test[0]) \n",
    "print(\"Model Predicted Value:- \", predictions[0])"
   ]
  },
  {
   "cell_type": "code",
   "execution_count": null,
   "id": "82a53945",
   "metadata": {},
   "outputs": [],
   "source": [
    "from sklearn.metrics import mean_squared_error\n",
    "\n",
    "mse = mean_squared_error(y_test, predictions) \n",
    "rmse = np.sqrt(mse)\n",
    "print(rmse)"
   ]
  }
 ],
 "metadata": {
  "kernelspec": {
   "display_name": "boston",
   "language": "python",
   "name": "python3"
  },
  "language_info": {
   "name": "python",
   "version": "3.12.4"
  }
 },
 "nbformat": 4,
 "nbformat_minor": 5
}
